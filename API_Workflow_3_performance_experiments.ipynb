{
  "cells": [
    {
      "cell_type": "markdown",
      "id": "886ecf79",
      "metadata": {
        "id": "886ecf79"
      },
      "source": [
        "# **Transcription with Conversation-Level Sentiment Annotations**\n",
        "Below, we use the Hume and GPT APIs to generate conversation-level sentiment annotations for a Zoom conversation.\n",
        "\n",
        "> We design a two-part pipeline to visualize Zoom meetings with conversation-level sentiment annotations. We first introduce novel metrics to capture conversation-level sentiments along three axes: comprehension, consensus, and cordiality. To obtain these metrics, we first identify each speaker's individual expressed sentiments during each of their responses. To determine speaker sentiment, we segment Zoom recordings by speaker and feed the video data, audio file (including information on voice prosity), and transcript (text content) of each segment to an off-the-shelf model that outputs a quantitative measure of the extent to which the speaker expresses 48 emotions. Afterward, for each segment, we combine the speaker's top 5 emotions with weights, uniformly sampled facial expressions, and spoken words in an instruction-tuned prompt to a multimodal large language model in order to determine conversation-level metrics.\n",
        "\n"
      ]
    },
    {
      "cell_type": "markdown",
      "id": "VsRSpa3IbBfV",
      "metadata": {
        "id": "VsRSpa3IbBfV"
      },
      "source": [
        "# Initialization"
      ]
    },
    {
      "cell_type": "code",
      "execution_count": 42,
      "id": "_y0U55mIXpIb",
      "metadata": {
        "colab": {
          "base_uri": "https://localhost:8080/"
        },
        "collapsed": true,
        "id": "_y0U55mIXpIb",
        "outputId": "08093b07-8d1d-409b-d1c5-ef5e31477904",
        "scrolled": true
      },
      "outputs": [
        {
          "name": "stdout",
          "output_type": "stream",
          "text": [
            "Requirement already satisfied: hume in c:\\users\\j\\anaconda3\\lib\\site-packages (0.5.0)\n",
            "Requirement already satisfied: httpx[http2]<0.28.0,>=0.27.0 in c:\\users\\j\\anaconda3\\lib\\site-packages (from hume) (0.27.0)\n",
            "Requirement already satisfied: pydantic<3.0.0,>=2.6.4 in c:\\users\\j\\anaconda3\\lib\\site-packages (from hume) (2.7.1)\n",
            "Requirement already satisfied: pydub<0.26.0,>=0.25.1 in c:\\users\\j\\anaconda3\\lib\\site-packages (from hume) (0.25.1)\n",
            "Requirement already satisfied: typing-extensions<5.0.0,>=4.3.0 in c:\\users\\j\\anaconda3\\lib\\site-packages (from hume) (4.7.1)\n",
            "Requirement already satisfied: websockets<13.0,>=12.0 in c:\\users\\j\\anaconda3\\lib\\site-packages (from hume) (12.0)\n",
            "Requirement already satisfied: anyio in c:\\users\\j\\anaconda3\\lib\\site-packages (from httpx[http2]<0.28.0,>=0.27.0->hume) (3.5.0)\n",
            "Requirement already satisfied: certifi in c:\\users\\j\\anaconda3\\lib\\site-packages (from httpx[http2]<0.28.0,>=0.27.0->hume) (2023.7.22)\n",
            "Requirement already satisfied: httpcore==1.* in c:\\users\\j\\anaconda3\\lib\\site-packages (from httpx[http2]<0.28.0,>=0.27.0->hume) (1.0.5)\n",
            "Requirement already satisfied: idna in c:\\users\\j\\anaconda3\\lib\\site-packages (from httpx[http2]<0.28.0,>=0.27.0->hume) (3.4)\n",
            "Requirement already satisfied: sniffio in c:\\users\\j\\anaconda3\\lib\\site-packages (from httpx[http2]<0.28.0,>=0.27.0->hume) (1.2.0)\n",
            "Requirement already satisfied: h2<5,>=3 in c:\\users\\j\\anaconda3\\lib\\site-packages (from httpx[http2]<0.28.0,>=0.27.0->hume) (4.1.0)\n",
            "Requirement already satisfied: h11<0.15,>=0.13 in c:\\users\\j\\anaconda3\\lib\\site-packages (from httpcore==1.*->httpx[http2]<0.28.0,>=0.27.0->hume) (0.14.0)\n",
            "Requirement already satisfied: annotated-types>=0.4.0 in c:\\users\\j\\anaconda3\\lib\\site-packages (from pydantic<3.0.0,>=2.6.4->hume) (0.6.0)\n",
            "Requirement already satisfied: pydantic-core==2.18.2 in c:\\users\\j\\anaconda3\\lib\\site-packages (from pydantic<3.0.0,>=2.6.4->hume) (2.18.2)\n",
            "Requirement already satisfied: hyperframe<7,>=6.0 in c:\\users\\j\\anaconda3\\lib\\site-packages (from h2<5,>=3->httpx[http2]<0.28.0,>=0.27.0->hume) (6.0.1)\n",
            "Requirement already satisfied: hpack<5,>=4.0 in c:\\users\\j\\anaconda3\\lib\\site-packages (from h2<5,>=3->httpx[http2]<0.28.0,>=0.27.0->hume) (4.0.0)\n",
            "Requirement already satisfied: hume[stream] in c:\\users\\j\\anaconda3\\lib\\site-packages (0.5.0)\n",
            "Requirement already satisfied: httpx[http2]<0.28.0,>=0.27.0 in c:\\users\\j\\anaconda3\\lib\\site-packages (from hume[stream]) (0.27.0)\n",
            "Requirement already satisfied: pydantic<3.0.0,>=2.6.4 in c:\\users\\j\\anaconda3\\lib\\site-packages (from hume[stream]) (2.7.1)\n",
            "Requirement already satisfied: pydub<0.26.0,>=0.25.1 in c:\\users\\j\\anaconda3\\lib\\site-packages (from hume[stream]) (0.25.1)\n",
            "Requirement already satisfied: typing-extensions<5.0.0,>=4.3.0 in c:\\users\\j\\anaconda3\\lib\\site-packages (from hume[stream]) (4.7.1)\n",
            "Requirement already satisfied: websockets<13.0,>=12.0 in c:\\users\\j\\anaconda3\\lib\\site-packages (from hume[stream]) (12.0)\n",
            "Requirement already satisfied: anyio in c:\\users\\j\\anaconda3\\lib\\site-packages (from httpx[http2]<0.28.0,>=0.27.0->hume[stream]) (3.5.0)\n",
            "Requirement already satisfied: certifi in c:\\users\\j\\anaconda3\\lib\\site-packages (from httpx[http2]<0.28.0,>=0.27.0->hume[stream]) (2023.7.22)\n",
            "Requirement already satisfied: httpcore==1.* in c:\\users\\j\\anaconda3\\lib\\site-packages (from httpx[http2]<0.28.0,>=0.27.0->hume[stream]) (1.0.5)\n",
            "Requirement already satisfied: idna in c:\\users\\j\\anaconda3\\lib\\site-packages (from httpx[http2]<0.28.0,>=0.27.0->hume[stream]) (3.4)\n",
            "Requirement already satisfied: sniffio in c:\\users\\j\\anaconda3\\lib\\site-packages (from httpx[http2]<0.28.0,>=0.27.0->hume[stream]) (1.2.0)\n",
            "Requirement already satisfied: h2<5,>=3 in c:\\users\\j\\anaconda3\\lib\\site-packages (from httpx[http2]<0.28.0,>=0.27.0->hume[stream]) (4.1.0)\n",
            "Requirement already satisfied: h11<0.15,>=0.13 in c:\\users\\j\\anaconda3\\lib\\site-packages (from httpcore==1.*->httpx[http2]<0.28.0,>=0.27.0->hume[stream]) (0.14.0)\n",
            "Requirement already satisfied: annotated-types>=0.4.0 in c:\\users\\j\\anaconda3\\lib\\site-packages (from pydantic<3.0.0,>=2.6.4->hume[stream]) (0.6.0)\n",
            "Requirement already satisfied: pydantic-core==2.18.2 in c:\\users\\j\\anaconda3\\lib\\site-packages (from pydantic<3.0.0,>=2.6.4->hume[stream]) (2.18.2)\n",
            "Requirement already satisfied: hyperframe<7,>=6.0 in c:\\users\\j\\anaconda3\\lib\\site-packages (from h2<5,>=3->httpx[http2]<0.28.0,>=0.27.0->hume[stream]) (6.0.1)\n",
            "Requirement already satisfied: hpack<5,>=4.0 in c:\\users\\j\\anaconda3\\lib\\site-packages (from h2<5,>=3->httpx[http2]<0.28.0,>=0.27.0->hume[stream]) (4.0.0)\n",
            "Requirement already satisfied: openai in c:\\users\\j\\anaconda3\\lib\\site-packages (1.24.1)\n",
            "Requirement already satisfied: anyio<5,>=3.5.0 in c:\\users\\j\\anaconda3\\lib\\site-packages (from openai) (3.5.0)\n",
            "Requirement already satisfied: distro<2,>=1.7.0 in c:\\users\\j\\anaconda3\\lib\\site-packages (from openai) (1.9.0)\n",
            "Requirement already satisfied: httpx<1,>=0.23.0 in c:\\users\\j\\anaconda3\\lib\\site-packages (from openai) (0.27.0)\n",
            "Requirement already satisfied: pydantic<3,>=1.9.0 in c:\\users\\j\\anaconda3\\lib\\site-packages (from openai) (2.7.1)\n",
            "Requirement already satisfied: sniffio in c:\\users\\j\\anaconda3\\lib\\site-packages (from openai) (1.2.0)\n",
            "Requirement already satisfied: tqdm>4 in c:\\users\\j\\anaconda3\\lib\\site-packages (from openai) (4.65.0)\n",
            "Requirement already satisfied: typing-extensions<5,>=4.7 in c:\\users\\j\\anaconda3\\lib\\site-packages (from openai) (4.7.1)\n",
            "Requirement already satisfied: idna>=2.8 in c:\\users\\j\\anaconda3\\lib\\site-packages (from anyio<5,>=3.5.0->openai) (3.4)\n",
            "Requirement already satisfied: certifi in c:\\users\\j\\anaconda3\\lib\\site-packages (from httpx<1,>=0.23.0->openai) (2023.7.22)\n",
            "Requirement already satisfied: httpcore==1.* in c:\\users\\j\\anaconda3\\lib\\site-packages (from httpx<1,>=0.23.0->openai) (1.0.5)\n",
            "Requirement already satisfied: h11<0.15,>=0.13 in c:\\users\\j\\anaconda3\\lib\\site-packages (from httpcore==1.*->httpx<1,>=0.23.0->openai) (0.14.0)\n",
            "Requirement already satisfied: annotated-types>=0.4.0 in c:\\users\\j\\anaconda3\\lib\\site-packages (from pydantic<3,>=1.9.0->openai) (0.6.0)\n",
            "Requirement already satisfied: pydantic-core==2.18.2 in c:\\users\\j\\anaconda3\\lib\\site-packages (from pydantic<3,>=1.9.0->openai) (2.18.2)\n",
            "Requirement already satisfied: colorama in c:\\users\\j\\anaconda3\\lib\\site-packages (from tqdm>4->openai) (0.4.6)\n",
            "Requirement already satisfied: python-dotenv in c:\\users\\j\\anaconda3\\lib\\site-packages (0.21.0)\n",
            "Requirement already satisfied: pydub in c:\\users\\j\\anaconda3\\lib\\site-packages (0.25.1)\n",
            "Requirement already satisfied: ffmpeg in c:\\users\\j\\anaconda3\\lib\\site-packages (1.4)\n",
            "Requirement already satisfied: moviepy in c:\\users\\j\\anaconda3\\lib\\site-packages (1.0.3)\n",
            "Requirement already satisfied: decorator<5.0,>=4.0.2 in c:\\users\\j\\anaconda3\\lib\\site-packages (from moviepy) (4.4.2)\n",
            "Requirement already satisfied: tqdm<5.0,>=4.11.2 in c:\\users\\j\\anaconda3\\lib\\site-packages (from moviepy) (4.65.0)\n",
            "Requirement already satisfied: requests<3.0,>=2.8.1 in c:\\users\\j\\anaconda3\\lib\\site-packages (from moviepy) (2.31.0)\n",
            "Requirement already satisfied: proglog<=1.0.0 in c:\\users\\j\\anaconda3\\lib\\site-packages (from moviepy) (0.1.10)\n",
            "Requirement already satisfied: numpy>=1.17.3 in c:\\users\\j\\anaconda3\\lib\\site-packages (from moviepy) (1.24.3)\n",
            "Requirement already satisfied: imageio<3.0,>=2.5 in c:\\users\\j\\anaconda3\\lib\\site-packages (from moviepy) (2.26.0)\n",
            "Requirement already satisfied: imageio-ffmpeg>=0.2.0 in c:\\users\\j\\anaconda3\\lib\\site-packages (from moviepy) (0.4.9)\n",
            "Requirement already satisfied: pillow>=8.3.2 in c:\\users\\j\\anaconda3\\lib\\site-packages (from imageio<3.0,>=2.5->moviepy) (9.4.0)\n",
            "Requirement already satisfied: setuptools in c:\\users\\j\\anaconda3\\lib\\site-packages (from imageio-ffmpeg>=0.2.0->moviepy) (68.0.0)\n",
            "Requirement already satisfied: charset-normalizer<4,>=2 in c:\\users\\j\\anaconda3\\lib\\site-packages (from requests<3.0,>=2.8.1->moviepy) (2.0.4)\n",
            "Requirement already satisfied: idna<4,>=2.5 in c:\\users\\j\\anaconda3\\lib\\site-packages (from requests<3.0,>=2.8.1->moviepy) (3.4)\n",
            "Requirement already satisfied: urllib3<3,>=1.21.1 in c:\\users\\j\\anaconda3\\lib\\site-packages (from requests<3.0,>=2.8.1->moviepy) (1.26.16)\n",
            "Requirement already satisfied: certifi>=2017.4.17 in c:\\users\\j\\anaconda3\\lib\\site-packages (from requests<3.0,>=2.8.1->moviepy) (2023.7.22)\n",
            "Requirement already satisfied: colorama in c:\\users\\j\\anaconda3\\lib\\site-packages (from tqdm<5.0,>=4.11.2->moviepy) (0.4.6)\n",
            "Requirement already satisfied: webvtt-py in c:\\users\\j\\anaconda3\\lib\\site-packages (0.4.6)\n",
            "Requirement already satisfied: docopt in c:\\users\\j\\anaconda3\\lib\\site-packages (from webvtt-py) (0.6.2)\n",
            "Requirement already satisfied: opencv-python in c:\\users\\j\\anaconda3\\lib\\site-packages (4.9.0.80)\n",
            "Requirement already satisfied: numpy>=1.21.2 in c:\\users\\j\\anaconda3\\lib\\site-packages (from opencv-python) (1.24.3)\n"
          ]
        }
      ],
      "source": [
        "# Install libraries\n",
        "!pip install hume\n",
        "!pip install hume[stream]\n",
        "!pip install openai\n",
        "!pip install python-dotenv\n",
        "!pip install pydub\n",
        "!pip install ffmpeg\n",
        "!pip install moviepy\n",
        "!pip install webvtt-py\n",
        "!pip install opencv-python\n"
      ]
    },
    {
      "cell_type": "code",
      "execution_count": 1,
      "id": "99e95c11",
      "metadata": {
        "id": "99e95c11"
      },
      "outputs": [],
      "source": [
        "import os\n",
        "from dotenv import load_dotenv\n",
        "from openai import OpenAI\n",
        "import requests\n",
        "import base64\n",
        "from pydub import AudioSegment\n",
        "from hume import HumeBatchClient\n",
        "import json\n",
        "import pandas as pd\n",
        "import matplotlib.pyplot as plt\n",
        "# from google.colab import userdata\n",
        "import webvtt\n",
        "# from google.colab import userdata\n",
        "import cv2\n",
        "from moviepy.editor import VideoFileClip\n",
        "import subprocess"
      ]
    },
    {
      "cell_type": "markdown",
      "id": "20b38794",
      "metadata": {},
      "source": [
        "## Performance Experiments"
      ]
    },
    {
      "cell_type": "code",
      "execution_count": null,
      "id": "79617b7e",
      "metadata": {},
      "outputs": [],
      "source": []
    },
    {
      "cell_type": "markdown",
      "id": "f2e2183c",
      "metadata": {},
      "source": [
        "## Load datasets"
      ]
    },
    {
      "cell_type": "code",
      "execution_count": 2,
      "id": "2f516e28",
      "metadata": {},
      "outputs": [],
      "source": [
        "dataset_directory = './dataset/outputs/merged_all'"
      ]
    },
    {
      "cell_type": "markdown",
      "id": "f1431f60",
      "metadata": {},
      "source": [
        "# calculate the grouped predicted emotion for each modality"
      ]
    },
    {
      "cell_type": "code",
      "execution_count": null,
      "id": "44f34df3",
      "metadata": {},
      "outputs": [],
      "source": []
    }
  ],
  "metadata": {
    "colab": {
      "collapsed_sections": [
        "0frMVtWgEaCE"
      ],
      "provenance": []
    },
    "kernelspec": {
      "display_name": "Python 3",
      "language": "python",
      "name": "python3"
    },
    "language_info": {
      "codemirror_mode": {
        "name": "ipython",
        "version": 3
      },
      "file_extension": ".py",
      "mimetype": "text/x-python",
      "name": "python",
      "nbconvert_exporter": "python",
      "pygments_lexer": "ipython3",
      "version": "3.11.5"
    }
  },
  "nbformat": 4,
  "nbformat_minor": 5
}
